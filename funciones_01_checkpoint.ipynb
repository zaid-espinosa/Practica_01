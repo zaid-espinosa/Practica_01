{
  "nbformat": 4,
  "nbformat_minor": 0,
  "metadata": {
    "kernelspec": {
      "display_name": "Python 3",
      "language": "python",
      "name": "python3"
    },
    "language_info": {
      "codemirror_mode": {
        "name": "ipython",
        "version": 3
      },
      "file_extension": ".py",
      "mimetype": "text/x-python",
      "name": "python",
      "nbconvert_exporter": "python",
      "pygments_lexer": "ipython3",
      "version": "3.8.2"
    },
    "colab": {
      "name": "funciones_01-checkpoint.ipynb",
      "provenance": [],
      "include_colab_link": true
    }
  },
  "cells": [
    {
      "cell_type": "markdown",
      "metadata": {
        "id": "view-in-github",
        "colab_type": "text"
      },
      "source": [
        "<a href=\"https://colab.research.google.com/github/zaid-espinosa/Practica_01/blob/master/funciones_01_checkpoint.ipynb\" target=\"_parent\"><img src=\"https://colab.research.google.com/assets/colab-badge.svg\" alt=\"Open In Colab\"/></a>"
      ]
    },
    {
      "cell_type": "markdown",
      "metadata": {
        "id": "G16jQVFaudEu",
        "colab_type": "text"
      },
      "source": [
        "# 1. Funciones\n",
        "\n",
        "\n",
        "En esta sección se retoma la el concepto de funciones que son bloques de códigos que están desieñados para hacer un trabajo específico. Una vez que se desea reaizar una tarea que ya ha sido desarrollada dentro de función, simplemente se tiene que mandar a llamar o invocar a la función.\n",
        "\n",
        "En esta sección también se muestra cómo mandar información a una funcion diseñanada para procesar datos y  regresar algún valor o ejecutar algún comando. \n",
        "\n",
        "Finalmente se muestra como almacenar funciones en archivos separados llamandos *módulos* que ayudan a organizar mejor el programa principal."
      ]
    },
    {
      "cell_type": "markdown",
      "metadata": {
        "id": "cHV0HhS7udEw",
        "colab_type": "text"
      },
      "source": [
        "## 1.1. Definiendo una función ##\n",
        "\n",
        "Aquí se muestra un ejemplo de una función llamada $\\verb|greet_user|$ que simplemente imprime en la terminal una saludo"
      ]
    },
    {
      "cell_type": "code",
      "metadata": {
        "id": "gh0V2I28udEy",
        "colab_type": "code",
        "outputId": "0ba11c37-03db-40e1-d898-ff6f6aa8c324",
        "colab": {
          "base_uri": "https://localhost:8080/",
          "height": 34
        }
      },
      "source": [
        "########################################\n",
        "# CELDA 1 : Definición de una función  #\n",
        "########################################\n",
        "\n",
        "\n",
        "# Esta es la definición de una función\n",
        "def greet_user():\n",
        "    \"\"\"Mostrar un simple saludo.\"\"\"\n",
        "    print(\"Hola!\")\n",
        "\n",
        "\n",
        "# Ya estamos fuera de la función y se mandará a llamar\n",
        "greet_user()"
      ],
      "execution_count": 0,
      "outputs": [
        {
          "output_type": "stream",
          "text": [
            "Hola!\n"
          ],
          "name": "stdout"
        }
      ]
    },
    {
      "cell_type": "markdown",
      "metadata": {
        "id": "St30g8z0udE7",
        "colab_type": "text"
      },
      "source": [
        "En este ejemplo se muestra la estructura más simple de una fucnión . En la línea $\\verb|1|$ se utiliza la palabra reservada $\\verb|def|$ para notificar al intérprete de Python que comienza una función, seguido de $\\verb|def|$ sigue el nombre de la función y después unos parétesis vacíos, estos paréntesis vacíos implican que la fución no recibe ninguna información par poder trabajar, después de los paréntesis van dos puntos, estos indican que el código que sigue a continuación es el cuerpo de la función. Observe que todas las líneas de código pertenecientes a la fución deben de guardar la misma sangría. \n",
        "\n",
        "\n",
        "### 1.1.1 Pasando información a la función\n",
        "\n",
        "La función anterior sólo puede decir Hola, a continuación se muestra una modificación a la función para que ésta pueda mostrar un saludo personalizado."
      ]
    },
    {
      "cell_type": "code",
      "metadata": {
        "id": "kfDJnrN3udE9",
        "colab_type": "code",
        "colab": {
          "base_uri": "https://localhost:8080/",
          "height": 34
        },
        "outputId": "2caab36d-85fd-4a3e-ab5d-4d50df145edf"
      },
      "source": [
        "#########################################\n",
        "# CELDA 2 : Paso de info a la función   #\n",
        "#########################################\n",
        "\n",
        "\n",
        "# Esta es la definición de una función \n",
        "def greet_user(username):\n",
        "    \"\"\" Mostrar un saludo personalizado\"\"\"\n",
        "    print(\"Hola \"+username.title()+\"!\")\n",
        "    \n",
        "#Ya estamos fuera de la función y se mandará a llamar\n",
        "greet_user(\"Juan Pérez\")"
      ],
      "execution_count": 3,
      "outputs": [
        {
          "output_type": "stream",
          "text": [
            "Hola Juan Pérez!\n"
          ],
          "name": "stdout"
        }
      ]
    },
    {
      "cell_type": "markdown",
      "metadata": {
        "id": "DKrU5jn9udFM",
        "colab_type": "text"
      },
      "source": [
        "### 1.1.2 Ejercicios\n",
        "\n",
        "#### 1.1.2.1.Mensaje.\n",
        "Escriba una función llamanda $\\verb|display_message()|$ que imprima en la pantalla un mensaje que indique los temas que se han visto hasta el momento.\n",
        "\n",
        "#### 1.1.2.2 Libro favorito.\n",
        "Escriba una función que se llame $\\verb|libro_favorito()|$ que acepte un parámetro llamado $\\verb|titulo|$ y que despligue en la terminal *Tu libro favorito es (nombre del libro)*"
      ]
    },
    {
      "cell_type": "code",
      "metadata": {
        "id": "NKLnYS6K2exN",
        "colab_type": "code",
        "colab": {}
      },
      "source": [
        "def display_messange(temas):\n",
        "  print(\"Temas de programación vistos: \" + temas.title()+\".\")\n",
        "  "
      ],
      "execution_count": 0,
      "outputs": []
    },
    {
      "cell_type": "code",
      "metadata": {
        "id": "wHhfHUnf3sX-",
        "colab_type": "code",
        "colab": {
          "base_uri": "https://localhost:8080/",
          "height": 34
        },
        "outputId": "160866fb-8176-4935-9e60-1096a42dfdc1"
      },
      "source": [
        "display_messange(\"listas, funciones, positional arguments, clases, instancias, herencia, importar clases \")"
      ],
      "execution_count": 11,
      "outputs": [
        {
          "output_type": "stream",
          "text": [
            "Temas de programación vistos: Listas, Funciones, Positional Arguments, Clases, Instancias, Herencia, Importar Clases .\n"
          ],
          "name": "stdout"
        }
      ]
    },
    {
      "cell_type": "code",
      "metadata": {
        "id": "XBjwmjMd4hNc",
        "colab_type": "code",
        "colab": {}
      },
      "source": [
        "def libro_favorito(titulo):\n",
        "  print (\"Tu libro favorito es \" + titulo.title()+\".\")"
      ],
      "execution_count": 0,
      "outputs": []
    },
    {
      "cell_type": "code",
      "metadata": {
        "id": "FLy6WjgG4_rS",
        "colab_type": "code",
        "colab": {
          "base_uri": "https://localhost:8080/",
          "height": 34
        },
        "outputId": "b402662e-df98-45e0-9bd3-646020c58f22"
      },
      "source": [
        "libro_favorito(\"sonata a kreutzer\")"
      ],
      "execution_count": 13,
      "outputs": [
        {
          "output_type": "stream",
          "text": [
            "Tu libro favorito es Sonata A Kreutzer.\n"
          ],
          "name": "stdout"
        }
      ]
    },
    {
      "cell_type": "markdown",
      "metadata": {
        "id": "b2R7-5dJudFN",
        "colab_type": "text"
      },
      "source": [
        "## 1.2. Paso de argumentos\n",
        "\n",
        "En ocasiones una fución necesita múltiples parámetros, dentro de Python existen diferentes maneras de pasar los argumentos a una función, el uso y la implementación dependerá de la necesidad del usuario y programador.\n"
      ]
    },
    {
      "cell_type": "markdown",
      "metadata": {
        "id": "NYZ_T14AudFO",
        "colab_type": "text"
      },
      "source": [
        "### 1.2.1 Argumentos Posicionales\n",
        "\n",
        "Ejecute las siguientes celdas y observe los resultados"
      ]
    },
    {
      "cell_type": "code",
      "metadata": {
        "id": "RYmz-x75udFP",
        "colab_type": "code",
        "colab": {}
      },
      "source": [
        "#########################################\n",
        "# CELDA 3 : Descripción de mascota      #\n",
        "#########################################\n",
        "\n",
        "\n",
        "def descripcion_mascota(tipo_animal, nombre):\n",
        "    \"\"\"Muestra la información de una mascota.\"\"\"\n",
        "    print(\"\\nTengo un(a) \" + tipo_animal + \" como mascota.\")\n",
        "    print(\"Mi \" + tipo_animal +  \" se llama \" + nombre)"
      ],
      "execution_count": 0,
      "outputs": []
    },
    {
      "cell_type": "code",
      "metadata": {
        "id": "-kKwMv5dudFV",
        "colab_type": "code",
        "colab": {
          "base_uri": "https://localhost:8080/",
          "height": 68
        },
        "outputId": "16eb5da9-400d-4e02-e8e4-e35e3b58a716"
      },
      "source": [
        "#########################################\n",
        "# CELDA 4 :                             #\n",
        "#########################################\n",
        "\n",
        "\n",
        "descripcion_mascota(\"perro\",\"Filemon\")"
      ],
      "execution_count": 15,
      "outputs": [
        {
          "output_type": "stream",
          "text": [
            "\n",
            "Tengo un(a) perro como mascota.\n",
            "Mi perro se llama Filemon\n"
          ],
          "name": "stdout"
        }
      ]
    },
    {
      "cell_type": "code",
      "metadata": {
        "id": "5avP0m0pudFb",
        "colab_type": "code",
        "colab": {
          "base_uri": "https://localhost:8080/",
          "height": 68
        },
        "outputId": "de296b6f-d32c-4ed0-cd93-10cad9a21a5d"
      },
      "source": [
        "#########################################\n",
        "# CELDA 5 :                             #\n",
        "#########################################\n",
        "\n",
        "\n",
        "descripcion_mascota(\"Michi\",\"gato\")"
      ],
      "execution_count": 16,
      "outputs": [
        {
          "output_type": "stream",
          "text": [
            "\n",
            "Tengo un(a) Michi como mascota.\n",
            "Mi Michi se llama gato\n"
          ],
          "name": "stdout"
        }
      ]
    },
    {
      "cell_type": "markdown",
      "metadata": {
        "id": "dEJEg6P0udFq",
        "colab_type": "text"
      },
      "source": [
        "La función se llama $\\verb|descripcion_mascota|$ y se puede observar en su implementación en la *celda 3* observe que recibe dos parámetros que deben de ser de tipo *string*, e imprime la información referente a mascota, en la *celda 4 y 5* se manda a llamar la función y si se observa el resultado de la celda 4 los enunciados muestran coherencia, mientras que en la celda 5 son incoherentes. \n",
        "\n",
        "La diferncia entre las celdas fue el orden de los argumentos, en la celda 4 \"perro\" lo asinga a \"tipo de animal\" y \"Filemon\" lo asigna a nombre, mientras que en la celda 5 \"Michi\" lo asigna \"tipo de animal\", mientras que \"gato\" lo asinga a \"nombre\".\n",
        "\n",
        "A esta forma de mandar los parámetros en los que es de gran importancia el orden en que se mandan los mismos, se le conoce como **Argumentos posicionales**"
      ]
    },
    {
      "cell_type": "markdown",
      "metadata": {
        "id": "TOXRrshpudFr",
        "colab_type": "text"
      },
      "source": [
        "### 1.2.2 Argumentos \"Keyword\"\n",
        "\n",
        "Ejecute la *celda 3* y depués las *celda 6 y 7*"
      ]
    },
    {
      "cell_type": "code",
      "metadata": {
        "id": "J1U_ZP9gudFt",
        "colab_type": "code",
        "colab": {
          "base_uri": "https://localhost:8080/",
          "height": 68
        },
        "outputId": "93c4c9d2-abe2-4e80-e341-ab410de706c3"
      },
      "source": [
        "#########################################\n",
        "# CELDA 6 :                             #\n",
        "#########################################\n",
        "\n",
        "\n",
        "descripcion_mascota(tipo_animal = \"hamster\",nombre = \"Harry\")"
      ],
      "execution_count": 20,
      "outputs": [
        {
          "output_type": "stream",
          "text": [
            "\n",
            "Tengo un(a) hamster como mascota.\n",
            "Mi hamster se llama Harry\n"
          ],
          "name": "stdout"
        }
      ]
    },
    {
      "cell_type": "code",
      "metadata": {
        "scrolled": true,
        "id": "j2MEcv3NudF1",
        "colab_type": "code",
        "colab": {
          "base_uri": "https://localhost:8080/",
          "height": 68
        },
        "outputId": "5ac0e2b3-aaf6-4e28-fd45-8d75572b9f4d"
      },
      "source": [
        "#########################################\n",
        "# CELDA 7 :                             #\n",
        "#########################################\n",
        "\n",
        "\n",
        "descripcion_mascota(nombre = \"Cuco\",tipo_animal = \"Hurón\")"
      ],
      "execution_count": 21,
      "outputs": [
        {
          "output_type": "stream",
          "text": [
            "\n",
            "Tengo un(a) Hurón como mascota.\n",
            "Mi Hurón se llama Cuco\n"
          ],
          "name": "stdout"
        }
      ]
    },
    {
      "cell_type": "markdown",
      "metadata": {
        "id": "h9IdyEzIudF7",
        "colab_type": "text"
      },
      "source": [
        "Observe que ahora el orden de los argumentos no importa, esto se debe a que desde que se manda a llamar la función se hace la asignación a los variables locales de la función. Es de gran importancia que note que la implementación de la función no cambió en nada, los cambios se deben de hacer al momento de llamar la función."
      ]
    },
    {
      "cell_type": "markdown",
      "metadata": {
        "id": "zw1EIFdFudF8",
        "colab_type": "text"
      },
      "source": [
        "## 1.2.3 Valores predeterminados\n",
        "\n",
        "En la definición de las funciones se puede definir valores predeterminados para los parámetros. Si un parámetro se manda desde la llamada de la función Python utiliza el valor que se ha mandado en la invocación de la función y deshecha el predeterminado, sino se ha manda el parámetro desde la llamada de la función entonces se utilizará el valor predeterminado. Observe el código de las celda 8 y ejecute la celda para observar el comportamiento de la misma."
      ]
    },
    {
      "cell_type": "code",
      "metadata": {
        "id": "uwtRDknLudF9",
        "colab_type": "code",
        "colab": {
          "base_uri": "https://localhost:8080/",
          "height": 68
        },
        "outputId": "2b585de8-20a8-4662-894b-117cdfbce3c4"
      },
      "source": [
        "#########################################\n",
        "# CELDA 8 : Valores predeterminados     #\n",
        "#########################################\n",
        "def descripcion_mascota(nombre,tipo_animal = \"perro\"):\n",
        "    \"\"\"Muestra la información de una mascota\"\"\"\n",
        "    print(\"\\nUsted tiene un@ \" + tipo_animal +\".\" )\n",
        "    print(\"Mi \" + tipo_animal + \" se llama \" + nombre.title() +\".\")\n",
        "\n",
        "descripcion_mascota(nombre=\"Orejas\")"
      ],
      "execution_count": 22,
      "outputs": [
        {
          "output_type": "stream",
          "text": [
            "\n",
            "Usted tiene un@ perro.\n",
            "Mi perro se llama Orejas.\n"
          ],
          "name": "stdout"
        }
      ]
    },
    {
      "cell_type": "markdown",
      "metadata": {
        "id": "_4RUPAOQudGD",
        "colab_type": "text"
      },
      "source": [
        "## 1.3 Ejercicios\n",
        "\n",
        "### 1.3.1 Playera\n",
        "\n",
        "Escriba una función llamanda $\\verb|hacerPlayera()|$ que acepte como argumento, el tamaño y un texto que apararecerá cerigrafeado en la playera. La función deberá imprimir en la terminal algo parecido a lo siguiente\n",
        "\n",
        "*La playera es talla \"Grande\" y el texto a cerigrafear es: \"Hola amigos\"*\n",
        "\n",
        "Para verificar el correcto funcionamiento de la función, genere un programa que la invoque. \n",
        "\n"
      ]
    },
    {
      "cell_type": "code",
      "metadata": {
        "id": "jMZFKDEwudGE",
        "colab_type": "code",
        "colab": {}
      },
      "source": [
        "####  Prgrama de Playeras  ###\n",
        "def hacerPlayera(tamaño, texto):\n",
        "  print (\"La playera es de talla '\" + tamaño.title() + \"' y el texto a cerigrafear es: '\" + texto.title() + \"'.\" )\n",
        "    "
      ],
      "execution_count": 0,
      "outputs": []
    },
    {
      "cell_type": "code",
      "metadata": {
        "id": "U2C4Pg6Opugc",
        "colab_type": "code",
        "colab": {
          "base_uri": "https://localhost:8080/",
          "height": 34
        },
        "outputId": "0c8c6be9-dcf0-4971-f2e1-2078a1095fd8"
      },
      "source": [
        "hacerPlayera(\"chica\",\"hellow word\")"
      ],
      "execution_count": 24,
      "outputs": [
        {
          "output_type": "stream",
          "text": [
            "La playera es de talla 'Chica' y el texto a cerigrafear es: 'Hellow Word'.\n"
          ],
          "name": "stdout"
        }
      ]
    },
    {
      "cell_type": "markdown",
      "metadata": {
        "id": "143jAWcxudGU",
        "colab_type": "text"
      },
      "source": [
        "### 1.3.2 Playeras Grandes\n",
        "\n",
        "Modique la función $\\verb|hacerPlayera()|$ de tal manera que las playeras grandes sean predeterminadas y el texto predefinido para la cerigrafear sea $\\verb|yo <3 Python|$.\n",
        "\n",
        "Para verificar el correcto funcionamiento del módulo:\n",
        "\n",
        "1. Genere una playera grande utlizando el texto predeterminado.\n",
        "\n",
        "2. Genere una playera mediana con el texto predeterminado.\n",
        "\n",
        "3. Genere una playera de talla distnta a grande con un texto distinto al predeterminado.\n",
        "\n",
        "\n"
      ]
    },
    {
      "cell_type": "code",
      "metadata": {
        "id": "tSi5QSZbudGV",
        "colab_type": "code",
        "colab": {}
      },
      "source": [
        "###    Programa de Playeras grandes ###\n",
        "def hacerPlayera(tamaño=\"Grande\", texto= \"yo <3 Python\"):\n",
        "  print (\"La playera es de talla '\" + tamaño.title() + \"' y el texto a cerigrafear es: '\" + texto.title() + \"'.\" )\n",
        "  "
      ],
      "execution_count": 0,
      "outputs": []
    },
    {
      "cell_type": "code",
      "metadata": {
        "id": "kqoKjahuqZHL",
        "colab_type": "code",
        "colab": {
          "base_uri": "https://localhost:8080/",
          "height": 34
        },
        "outputId": "dfec562c-5c91-4cda-c134-8c2cb235cc60"
      },
      "source": [
        "hacerPlayera()"
      ],
      "execution_count": 26,
      "outputs": [
        {
          "output_type": "stream",
          "text": [
            "La playera es de talla 'Grande' y el texto a cerigrafear es: 'Yo <3 Python'.\n"
          ],
          "name": "stdout"
        }
      ]
    },
    {
      "cell_type": "code",
      "metadata": {
        "id": "fc9GDhUDqZog",
        "colab_type": "code",
        "colab": {
          "base_uri": "https://localhost:8080/",
          "height": 34
        },
        "outputId": "ab62a8c1-43f3-4d36-ae96-247d20bffed0"
      },
      "source": [
        "hacerPlayera(tamaño=\"mediana\")"
      ],
      "execution_count": 27,
      "outputs": [
        {
          "output_type": "stream",
          "text": [
            "La playera es de talla 'Mediana' y el texto a cerigrafear es: 'Yo <3 Python'.\n"
          ],
          "name": "stdout"
        }
      ]
    },
    {
      "cell_type": "code",
      "metadata": {
        "id": "hnslmAIFqgVC",
        "colab_type": "code",
        "colab": {
          "base_uri": "https://localhost:8080/",
          "height": 34
        },
        "outputId": "5cec9e49-6a45-4ab7-d011-0cc0eb05fd41"
      },
      "source": [
        "hacerPlayera(texto=\"yo <3 mario bros\", tamaño=\"chica\")"
      ],
      "execution_count": 28,
      "outputs": [
        {
          "output_type": "stream",
          "text": [
            "La playera es de talla 'Chica' y el texto a cerigrafear es: 'Yo <3 Mario Bros'.\n"
          ],
          "name": "stdout"
        }
      ]
    },
    {
      "cell_type": "markdown",
      "metadata": {
        "id": "nou4d8i9udGc",
        "colab_type": "text"
      },
      "source": [
        "### 1.3.2 Países y ciudades\n",
        "\n",
        "Escriba una función llamada $\\verb|descripcionCiudad()|$ que acepte como argumentos el nombre de una ciudad y el nombre de un país como argumentos y que imprima en la terminal un texto como: *Xalapa está en México*, *Río de Janeiro está en Brazil*, *París está en Fracia*. Ponga como valor predeterminado \"México\" a la variable país, y llame a la función tres veces donde por lo menos una ciudad no pertenezca al país México.\n",
        "\n"
      ]
    },
    {
      "cell_type": "code",
      "metadata": {
        "id": "Z5jS-rVFudGd",
        "colab_type": "code",
        "colab": {}
      },
      "source": [
        "def descripcionCiudad(ciudad, pais=\"México\"):\n",
        "  print (ciudad.title() +\" está en \" + pais.title())"
      ],
      "execution_count": 0,
      "outputs": []
    },
    {
      "cell_type": "code",
      "metadata": {
        "id": "2-rWp85or7Li",
        "colab_type": "code",
        "colab": {
          "base_uri": "https://localhost:8080/",
          "height": 34
        },
        "outputId": "097b8e0f-961b-4a58-e122-d1dfad2da080"
      },
      "source": [
        "descripcionCiudad(ciudad=\"oaxaca\")"
      ],
      "execution_count": 33,
      "outputs": [
        {
          "output_type": "stream",
          "text": [
            "Oaxaca está en México\n"
          ],
          "name": "stdout"
        }
      ]
    },
    {
      "cell_type": "code",
      "metadata": {
        "id": "oOzxkQHkr7ai",
        "colab_type": "code",
        "colab": {
          "base_uri": "https://localhost:8080/",
          "height": 34
        },
        "outputId": "c8b54221-f845-4cdf-d40d-86544f32e5c4"
      },
      "source": [
        "descripcionCiudad(\"qunitana roo\")"
      ],
      "execution_count": 34,
      "outputs": [
        {
          "output_type": "stream",
          "text": [
            "Qunitana Roo está en México\n"
          ],
          "name": "stdout"
        }
      ]
    },
    {
      "cell_type": "code",
      "metadata": {
        "id": "tXhsrerBr7pf",
        "colab_type": "code",
        "colab": {
          "base_uri": "https://localhost:8080/",
          "height": 34
        },
        "outputId": "76235be0-46c0-491b-c9d1-40888ec067a8"
      },
      "source": [
        "descripcionCiudad(pais=\"Japón\", ciudad=\"kioto\")"
      ],
      "execution_count": 35,
      "outputs": [
        {
          "output_type": "stream",
          "text": [
            "Kioto está en Japón\n"
          ],
          "name": "stdout"
        }
      ]
    },
    {
      "cell_type": "markdown",
      "metadata": {
        "id": "bRjCR6rrudGi",
        "colab_type": "text"
      },
      "source": [
        "## 1.4 Valores de regreso\n",
        "\n",
        "## 1.4.1 Introducción.\n",
        "Una función no necesariamente tiene que imprimir texto o mostrar la información que recibe, usualmente, existen funciones que reciben argumentos, los procesan y después regresan al programa principal el o los datos modificados, a éstos datos que la función regresa al programa principal se le conoce como **valor de regreso** o **valor de retorno**, observe el código de la siguiente celda y su comportamiento, en la que se calcula el volumen de un cubo."
      ]
    },
    {
      "cell_type": "code",
      "metadata": {
        "id": "79HBItpFudGj",
        "colab_type": "code",
        "outputId": "f3649e3f-bac4-4e7e-a2ca-e6c171b20563",
        "colab": {
          "base_uri": "https://localhost:8080/",
          "height": 34
        }
      },
      "source": [
        "def volumenCubo(longitud_lado):\n",
        "    volumen = longitud_lado**3\n",
        "    return volumen\n",
        "\n",
        "print(\"El volumen de un cubo cuyos lados miden 4cm es: \" + str(volumenCubo(4)) + \" cm^3\")\n",
        "\n"
      ],
      "execution_count": 36,
      "outputs": [
        {
          "output_type": "stream",
          "text": [
            "El volumen de un cubo cuyos lados miden 4cm es: 64 cm^3\n"
          ],
          "name": "stdout"
        }
      ]
    },
    {
      "cell_type": "markdown",
      "metadata": {
        "id": "kpytF5AYudGr",
        "colab_type": "text"
      },
      "source": [
        "Observe que la función $\\verb|volumenCubo(longitud_lado):|$ recibe como argumento un número y dentro de la función eleva ese valor al cubo y lo asigna a la variable local $\\verb|volumen|$ y regresa el valor guardado en $\\verb|volumen|$"
      ]
    },
    {
      "cell_type": "markdown",
      "metadata": {
        "id": "-9roMzHTudGs",
        "colab_type": "text"
      },
      "source": [
        "## Almacenando Funciones en Módulo\n",
        "\n",
        "Una ventaja de las funciones es que se pueden almacenar en archivos distintos de tal manera que el archivo principal no esté tan extenso y sea más sencillo de dar mantenimiento y poder depurar los errores, en otros lenguajes de programación como en C y C++ es equivalente las ilbrerías creadas por los usuarios"
      ]
    },
    {
      "cell_type": "markdown",
      "metadata": {
        "id": "Ak_OhIMZudGt",
        "colab_type": "raw"
      },
      "source": [
        "####\n",
        "# Este debería ser otro archivo "
      ]
    },
    {
      "cell_type": "code",
      "metadata": {
        "id": "9jox2d3NudGu",
        "colab_type": "code",
        "colab": {}
      },
      "source": [
        ""
      ],
      "execution_count": 0,
      "outputs": []
    }
  ]
}