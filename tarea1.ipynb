{
 "cells": [
  {
   "cell_type": "markdown",
   "metadata": {},
   "source": [
    "# List"
   ]
  },
  {
   "cell_type": "markdown",
   "metadata": {},
   "source": [
    "**Lista Bicicles**"
   ]
  },
  {
   "cell_type": "code",
   "execution_count": 6,
   "metadata": {},
   "outputs": [
    {
     "name": "stdout",
     "output_type": "stream",
     "text": [
      "['trek', 'cannondale', 'redline', 'specialized']\n",
      "cannondale\n"
     ]
    }
   ],
   "source": [
    "bicycles =['trek','cannondale','redline','specialized']\n",
    "print(bicycles)\n",
    "print(bicycles[1])"
   ]
  },
  {
   "cell_type": "markdown",
   "metadata": {},
   "source": [
    "**Lista de amigos**"
   ]
  },
  {
   "cell_type": "code",
   "execution_count": 7,
   "metadata": {},
   "outputs": [
    {
     "name": "stdout",
     "output_type": "stream",
     "text": [
      "Alberto\n",
      "Tecchi\n",
      "Adrian\n",
      "Mariana\n",
      "Welcome Alberto\n",
      "Gracias por visitarnos Tecchi\n",
      "Good lucky Adrian\n",
      "Love you Mariana\n"
     ]
    }
   ],
   "source": [
    "names = ['Alberto', 'Tecchi', 'Adrian', 'Mariana']\n",
    "for name in names:\n",
    "    print(name)\n",
    "\n",
    "print ('Welcome', names[-4])\n",
    "print('Gracias por visitarnos', names[-3])\n",
    "print('Good lucky', names[-2])\n",
    "print('Love you',names[-1])"
   ]
  },
  {
   "cell_type": "markdown",
   "metadata": {},
   "source": [
    "**Lista de deseos**\n"
   ]
  },
  {
   "cell_type": "code",
   "execution_count": 8,
   "metadata": {},
   "outputs": [
    {
     "name": "stdout",
     "output_type": "stream",
     "text": [
      "Me gustaria ir a Europa\n",
      "Me gustaria tener un carro del año\n",
      "Me gustaria terminar la unversidad\n",
      "Me gustaria tener un specialized\n",
      "Me gustaria tener una cuatrimoto\n",
      "Me gustaria tener una planta cervecera\n",
      "Me gustaria tener una cafetera slayer\n",
      "Me gustaria tener un departamento de dos niveles\n",
      "Me gustaria tener una empresa\n",
      "Me gustaria ir al Octoberfest\n",
      "Me gustaria ser toda mi vida feliz\n",
      "Me gustaria no viajar en el transporte publico\n",
      "Me gustaria ir a muchos conciertos\n",
      "Me gustaria estudiar en otro pais\n",
      "Me gustaria surfear\n"
     ]
    }
   ],
   "source": [
    "deseos = ['ir a Europa', 'tener un carro del año', 'terminar la unversidad', 'tener un specialized', 'tener una cuatrimoto', 'tener una planta cervecera', 'tener una cafetera slayer', 'tener un departamento de dos niveles', 'tener una empresa', 'ir al Octoberfest','ser toda mi vida feliz','no viajar en el transporte publico', 'ir a muchos conciertos', 'estudiar en otro pais','surfear']\n",
    "for deseo in deseos:\n",
    "    print ('Me gustaria',deseo)\n"
   ]
  },
  {
   "cell_type": "markdown",
   "metadata": {},
   "source": [
    "**Modificar elementos de lista**"
   ]
  },
  {
   "cell_type": "code",
   "execution_count": 9,
   "metadata": {},
   "outputs": [
    {
     "name": "stdout",
     "output_type": "stream",
     "text": [
      "['honda', 'yamaha', 'suzuki']\n",
      "['ducat', 'yamaha', 'suzuki']\n"
     ]
    }
   ],
   "source": [
    "motorcycles = ['honda', 'yamaha', 'suzuki']\n",
    "\n",
    "print(motorcycles)\n",
    "\n",
    "motorcycles[0] = 'ducat'\n",
    "print(motorcycles)"
   ]
  },
  {
   "cell_type": "markdown",
   "metadata": {},
   "source": [
    "**Agregar elemento a la lista**"
   ]
  },
  {
   "cell_type": "code",
   "execution_count": 10,
   "metadata": {},
   "outputs": [
    {
     "name": "stdout",
     "output_type": "stream",
     "text": [
      "['honda', 'yamaha', 'suzuki']\n",
      "['honda', 'yamaha', 'suzuki', 'ducati']\n"
     ]
    }
   ],
   "source": [
    "motorcycles = ['honda', 'yamaha', 'suzuki']\n",
    "\n",
    "print(motorcycles)\n",
    "\n",
    "motorcycles.append('ducati')\n",
    "\n",
    "print(motorcycles)"
   ]
  },
  {
   "cell_type": "markdown",
   "metadata": {},
   "source": [
    "**Insertar elementos a  una lista**"
   ]
  },
  {
   "cell_type": "code",
   "execution_count": 11,
   "metadata": {},
   "outputs": [
    {
     "name": "stdout",
     "output_type": "stream",
     "text": [
      "['honda', 'yamaha', 'suzuki']\n",
      "['ducati', 'honda', 'yamaha', 'suzuki']\n"
     ]
    }
   ],
   "source": [
    "motorcycles = ['honda', 'yamaha', 'suzuki']\n",
    "print(motorcycles)\n",
    "motorcycles.insert(0, 'ducati')\n",
    "print(motorcycles)\n"
   ]
  },
  {
   "cell_type": "markdown",
   "metadata": {},
   "source": [
    "**'del' in List**"
   ]
  },
  {
   "cell_type": "code",
   "execution_count": 12,
   "metadata": {},
   "outputs": [
    {
     "name": "stdout",
     "output_type": "stream",
     "text": [
      "['honda', 'yamaha', 'suzuki']\n",
      "['yamaha', 'suzuki']\n"
     ]
    }
   ],
   "source": [
    "motorcycles = ['honda', 'yamaha', 'suzuki']\n",
    "print(motorcycles)\n",
    "del motorcycles[0]\n",
    "print(motorcycles)"
   ]
  },
  {
   "cell_type": "markdown",
   "metadata": {},
   "source": [
    " # Funciones"
   ]
  },
  {
   "cell_type": "code",
   "execution_count": 13,
   "metadata": {},
   "outputs": [
    {
     "name": "stdout",
     "output_type": "stream",
     "text": [
      "Hello!\n"
     ]
    }
   ],
   "source": [
    "def greet_user():\n",
    "    \"\"\"Dipaly a simple greeting\"\"\"\n",
    "    print(\"Hello!\")\n",
    "greet_user()\n"
   ]
  },
  {
   "cell_type": "markdown",
   "metadata": {},
   "source": [
    "**Pasar información a una función**"
   ]
  },
  {
   "cell_type": "code",
   "execution_count": 14,
   "metadata": {},
   "outputs": [
    {
     "name": "stdout",
     "output_type": "stream",
     "text": [
      "Hello, Jessie!\n"
     ]
    }
   ],
   "source": [
    "def greet_user(username):\n",
    "    \"\"\"Display a simple greeting.\"\"\"\n",
    "    print(\"Hello, \" + username.title() + \"!\")\n",
    "greet_user('jessie')"
   ]
  },
  {
   "cell_type": "markdown",
   "metadata": {},
   "source": [
    "**Positional arguments**"
   ]
  },
  {
   "cell_type": "code",
   "execution_count": 15,
   "metadata": {},
   "outputs": [
    {
     "name": "stdout",
     "output_type": "stream",
     "text": [
      "\n",
      "I have a hamster.\n",
      "My hamster’s name is Harry.\n",
      "\n",
      "I have a dog.\n",
      "My dog’s name is Willie.\n"
     ]
    }
   ],
   "source": [
    "def describe_pet(animal_type, pet_name):\n",
    "    \"\"\"Display information about a pet.\"\"\"\n",
    "    print(\"\\nI have a \" + animal_type + \".\")\n",
    "    print(\"My \" + animal_type + \"’s name is \" + pet_name.title() + \".\")\n",
    "describe_pet('hamster', 'harry')\n",
    "describe_pet('dog', 'willie')"
   ]
  },
  {
   "cell_type": "code",
   "execution_count": 16,
   "metadata": {},
   "outputs": [
    {
     "name": "stdout",
     "output_type": "stream",
     "text": [
      "\n",
      "I have a harry.\n",
      "My harry’s name is Hamster.\n"
     ]
    }
   ],
   "source": [
    "def describe_pet(animal_type, pet_name):\n",
    "    \"\"\"Display information about a pet.\"\"\"\n",
    "    print(\"\\nI have a \" + animal_type + \".\")\n",
    "    print(\"My \" + animal_type + \"’s name is \" + pet_name.title() + \".\")\n",
    "describe_pet('harry', 'hamster')"
   ]
  },
  {
   "cell_type": "markdown",
   "metadata": {},
   "source": [
    "**Keyword arguments**"
   ]
  },
  {
   "cell_type": "code",
   "execution_count": 17,
   "metadata": {},
   "outputs": [
    {
     "name": "stdout",
     "output_type": "stream",
     "text": [
      "\n",
      "I have a hamster.\n",
      "My hamster 's name is Harry.\n"
     ]
    }
   ],
   "source": [
    "def describe_pet(animal_type, pet_name):\n",
    "    'Display information about a pet'\n",
    "    print (\"\\nI have a \" + animal_type + '.')\n",
    "    print ('My ' + animal_type +\" 's name is \" +pet_name.title()+\".\")\n",
    "describe_pet(animal_type='hamster', pet_name=\"harry\")"
   ]
  },
  {
   "cell_type": "markdown",
   "metadata": {},
   "source": [
    "**Default values**"
   ]
  },
  {
   "cell_type": "code",
   "execution_count": 18,
   "metadata": {},
   "outputs": [
    {
     "name": "stdout",
     "output_type": "stream",
     "text": [
      "\n",
      "I have a dog.\n",
      "My dog's name is Ned.\n"
     ]
    }
   ],
   "source": [
    "def describe_pet(pet_name, animal_type='dog'):\n",
    "\n",
    "    '''Display information about a pet'''\n",
    "    print(\"\\nI have a \" + animal_type + \".\")\n",
    "\n",
    "    print(\"My \" + animal_type + \"'s name is \" + pet_name.title() + \".\")\n",
    "describe_pet(\"ned\")"
   ]
  },
  {
   "cell_type": "markdown",
   "metadata": {},
   "source": [
    "# Tarea"
   ]
  },
  {
   "cell_type": "markdown",
   "metadata": {},
   "source": [
    "**T Shirt**"
   ]
  },
  {
   "cell_type": "code",
   "execution_count": 19,
   "metadata": {},
   "outputs": [
    {
     "name": "stdout",
     "output_type": "stream",
     "text": [
      "\n",
      "La Playera será talla: chica\n",
      " con texto: hello :D\n"
     ]
    }
   ],
   "source": [
    "def make_shirt(tam,tex):\n",
    "    print (\"\\nLa Playera será talla: \" + tam + \"\\n con texto: \" + tex)\n",
    "make_shirt (tam='chica', tex='hello :D')"
   ]
  },
  {
   "cell_type": "markdown",
   "metadata": {},
   "source": [
    "**Playeras grandes**"
   ]
  },
  {
   "cell_type": "code",
   "execution_count": 20,
   "metadata": {},
   "outputs": [
    {
     "name": "stdout",
     "output_type": "stream",
     "text": [
      "\n",
      "La Playera sera de talla: grande\n",
      " con texto: I <3 Python\n",
      "\n",
      "La Playera sera de talla: mediana y grande\n",
      " con texto: I love chocolate\n",
      "\n",
      "La Playera sera de talla: chica\n",
      " con texto: Hello friend\n"
     ]
    }
   ],
   "source": [
    "def make_shirt(tam='grande',tex='I <3 Python'):\n",
    "    print (\"\\nLa Playera sera de talla: \" + tam + \"\\n con texto: \" + tex)\n",
    "make_shirt()\n",
    "make_shirt (tam='mediana y grande', tex='I love chocolate')\n",
    "make_shirt (tam='chica', tex='Hello friend')"
   ]
  },
  {
   "cell_type": "markdown",
   "metadata": {},
   "source": [
    "**Country**"
   ]
  },
  {
   "cell_type": "code",
   "execution_count": 21,
   "metadata": {},
   "outputs": [
    {
     "name": "stdout",
     "output_type": "stream",
     "text": [
      "Lima esta en Peru\n",
      "Madrid esta en España\n",
      "Buenos Aires esta en Argentina\n"
     ]
    }
   ],
   "source": [
    "def describe_city(city, country):\n",
    "    print (city.title() + \" esta en \" + country.title())\n",
    "describe_city('lima', 'peru')\n",
    "describe_city('madrid', 'españa')\n",
    "describe_city('buenos aires', 'argentina')"
   ]
  },
  {
   "cell_type": "markdown",
   "metadata": {},
   "source": [
    "# Clases"
   ]
  },
  {
   "cell_type": "code",
   "execution_count": 22,
   "metadata": {},
   "outputs": [],
   "source": [
    "class Dog():\n",
    "    #Clase que ayuda a describir un perro\n",
    "    def __init__(self, name, age):\n",
    "    #Inicializa los atributos name y age\n",
    "        self.name = name\n",
    "        self.age = age\n",
    "\n",
    "    def sit(self):\n",
    "        #Simula el comportamiento de un perro al sentarse\n",
    "        print(self.name.title() + \" is now sitting\")\n",
    "    \n",
    "    def roll_over(self):\n",
    "        #Simula el comportamiento de un perro al girar\n",
    "        print(self.name.title() + \" ha dado una vuelta\")\n",
    "        "
   ]
  },
  {
   "cell_type": "markdown",
   "metadata": {},
   "source": [
    "**Definir un objeto de una clase**"
   ]
  },
  {
   "cell_type": "code",
   "execution_count": 23,
   "metadata": {},
   "outputs": [
    {
     "name": "stdout",
     "output_type": "stream",
     "text": [
      "My dog’s name is Willie.\n",
      "My dog is 6 years old.\n"
     ]
    }
   ],
   "source": [
    "my_dog = Dog('willie',6)\n",
    "print(\"My dog’s name is \" + my_dog.name.title() + \".\")\n",
    "print(\"My dog is \" + str(my_dog.age) + \" years old.\")"
   ]
  },
  {
   "cell_type": "markdown",
   "metadata": {},
   "source": [
    "# Tarea"
   ]
  },
  {
   "cell_type": "markdown",
   "metadata": {},
   "source": [
    "**Restaurant**"
   ]
  },
  {
   "cell_type": "code",
   "execution_count": 24,
   "metadata": {},
   "outputs": [
    {
     "name": "stdout",
     "output_type": "stream",
     "text": [
      "Se ha agregado el restaurant The Backyard\n",
      "El restaurante The Backyard trabaja el estilo de comida American.\n"
     ]
    },
    {
     "data": {
      "text/plain": [
       "'The Backyard abre de lunes a domingo de 8 hrs. a 23 hrs.'"
      ]
     },
     "execution_count": 24,
     "metadata": {},
     "output_type": "execute_result"
    }
   ],
   "source": [
    "class restaurant ():\n",
    "    def __init__ (self, restaurant_name, cuisine_type, time_open, time_close):\n",
    "        self.restaurant_name=restaurant_name\n",
    "        self.cuisine_type=cuisine_type\n",
    "        self.time_open=time_open\n",
    "        self.time_close=time_close\n",
    "    def describe_restaurant(self):\n",
    "        print ('El restaurante ' + self.restaurant_name.title() + ' trabaja el estilo de comida ' + self.cuisine_type.title() + '.')\n",
    "\n",
    "    def open_restaurant(self):\n",
    "        return (self.restaurant_name.title() +  \" abre de lunes a domingo de {} hrs. a {} hrs.\").format(self.time_open,self.time_close)\n",
    "\n",
    "one_restaurant=restaurant('the backyard','american',8,23)\n",
    "print (\"Se ha agregado el restaurant \" + one_restaurant.restaurant_name.title())\n",
    "one_restaurant.describe_restaurant()\n",
    "one_restaurant.open_restaurant()\n",
    "\n"
   ]
  },
  {
   "cell_type": "markdown",
   "metadata": {},
   "source": [
    "**Tres restaurant**"
   ]
  },
  {
   "cell_type": "code",
   "execution_count": 25,
   "metadata": {},
   "outputs": [
    {
     "name": "stdout",
     "output_type": "stream",
     "text": [
      "Se ha agregado el restaurante Pujol\n",
      "El restaurante Pujol trabaja el estilo de comida Mexican.\n"
     ]
    },
    {
     "data": {
      "text/plain": [
       "'Pujol abre de lunes a domingo de 7 hrs. a 24 hrs.'"
      ]
     },
     "execution_count": 25,
     "metadata": {},
     "output_type": "execute_result"
    }
   ],
   "source": [
    "tr=restaurant('pujol','mexican',7,24 )\n",
    "print (\"Se ha agregado el restaurante \" + tr.restaurant_name.title())\n",
    "tr.describe_restaurant()\n",
    "tr.open_restaurant()"
   ]
  },
  {
   "cell_type": "code",
   "execution_count": 26,
   "metadata": {},
   "outputs": [
    {
     "name": "stdout",
     "output_type": "stream",
     "text": [
      "Se ha agregado el restaurante El Celler De Can Roca\n",
      "El restaurante El Celler De Can Roca trabaja el estilo de comida Libre.\n"
     ]
    },
    {
     "data": {
      "text/plain": [
       "'El Celler De Can Roca abre de lunes a domingo de 10 hrs. a 22 hrs.'"
      ]
     },
     "execution_count": 26,
     "metadata": {},
     "output_type": "execute_result"
    }
   ],
   "source": [
    "trr=restaurant('El Celler de Can Roca','libre', 10, 22)\n",
    "print (\"Se ha agregado el restaurante \" + trr.restaurant_name.title())\n",
    "trr.describe_restaurant()\n",
    "trr.open_restaurant()"
   ]
  },
  {
   "cell_type": "code",
   "execution_count": 27,
   "metadata": {},
   "outputs": [
    {
     "name": "stdout",
     "output_type": "stream",
     "text": [
      "Se ha agregado el restaurante Dulce Patria\n",
      "El restaurante Dulce Patria trabaja el estilo de comida Mexican.\n"
     ]
    },
    {
     "data": {
      "text/plain": [
       "'Dulce Patria abre de lunes a domingo de 8 hrs. a 23 hrs.'"
      ]
     },
     "execution_count": 27,
     "metadata": {},
     "output_type": "execute_result"
    }
   ],
   "source": [
    "fr=restaurant('dulce patria','mexican', 8, 23)\n",
    "print (\"Se ha agregado el restaurante \" + fr.restaurant_name.title())\n",
    "fr.describe_restaurant()\n",
    "fr.open_restaurant()"
   ]
  },
  {
   "cell_type": "markdown",
   "metadata": {},
   "source": [
    "**Usuarios**"
   ]
  },
  {
   "cell_type": "code",
   "execution_count": 28,
   "metadata": {},
   "outputs": [
    {
     "name": "stdout",
     "output_type": "stream",
     "text": [
      "Antonio bienvenido a tu cuenta del Politécnico\n"
     ]
    }
   ],
   "source": [
    "class User():\n",
    "    def __init__(self,first_name,last_name,age_user,number_user):\n",
    "        self.first_name=first_name\n",
    "        self.last_name=last_name\n",
    "        self.age_user=age_user\n",
    "        self.number_user=number_user\n",
    "        \n",
    "    def describe_user(self):\n",
    "         return ('Se ha creado el usuario {} {} con edad de {} años y numero de cuenta {}').format(self.first_name,self.last_name,self.age_user,self.number_user)\n",
    "                    \n",
    "    def gret_user(self):\n",
    "        print (self.first_name.title(), 'bienvenido a tu cuenta del Politécnico')\n",
    "\n",
    "p=User('antonio','espinosa', 22, 2020302334)\n",
    "p.gret_user()"
   ]
  },
  {
   "cell_type": "code",
   "execution_count": 29,
   "metadata": {},
   "outputs": [
    {
     "data": {
      "text/plain": [
       "'Se ha creado el usuario antonio espinosa con edad de 22 años y numero de cuenta 2020302334'"
      ]
     },
     "execution_count": 29,
     "metadata": {},
     "output_type": "execute_result"
    }
   ],
   "source": [
    "p.describe_user()"
   ]
  },
  {
   "cell_type": "code",
   "execution_count": 42,
   "metadata": {},
   "outputs": [
    {
     "data": {
      "text/plain": [
       "'Se ha creado el usuario ricardo godinez con edad de 24 años y numero de cuenta 19865423'"
      ]
     },
     "execution_count": 42,
     "metadata": {},
     "output_type": "execute_result"
    }
   ],
   "source": [
    "a=User('ricardo','godinez', 24, 19865423)\n",
    "a.describe_user()"
   ]
  },
  {
   "cell_type": "code",
   "execution_count": 53,
   "metadata": {},
   "outputs": [
    {
     "name": "stdout",
     "output_type": "stream",
     "text": [
      "Ricardo bienvenido a tu cuenta del Politécnico\n"
     ]
    }
   ],
   "source": [
    "a.gret_user()"
   ]
  },
  {
   "cell_type": "code",
   "execution_count": 43,
   "metadata": {},
   "outputs": [
    {
     "data": {
      "text/plain": [
       "'Se ha creado el usuario laura sánchez con edad de 27 años y numero de cuenta 18960521'"
      ]
     },
     "execution_count": 43,
     "metadata": {},
     "output_type": "execute_result"
    }
   ],
   "source": [
    "b=User('laura','sánchez', 27, 18960521 )\n",
    "b.describe_user()"
   ]
  },
  {
   "cell_type": "code",
   "execution_count": 54,
   "metadata": {},
   "outputs": [
    {
     "name": "stdout",
     "output_type": "stream",
     "text": [
      "Laura bienvenido a tu cuenta del Politécnico\n"
     ]
    }
   ],
   "source": [
    "b.gret_user()"
   ]
  },
  {
   "cell_type": "code",
   "execution_count": 44,
   "metadata": {},
   "outputs": [
    {
     "data": {
      "text/plain": [
       "'Se ha creado el usuario mariana hernadez con edad de 21 años y numero de cuenta 2183055121'"
      ]
     },
     "execution_count": 44,
     "metadata": {},
     "output_type": "execute_result"
    }
   ],
   "source": [
    "c=User('mariana', 'hernadez', 21, 2183055121)\n",
    "c.describe_user()"
   ]
  },
  {
   "cell_type": "code",
   "execution_count": 56,
   "metadata": {},
   "outputs": [
    {
     "name": "stdout",
     "output_type": "stream",
     "text": [
      "Mariana bienvenido a tu cuenta del Politécnico\n"
     ]
    }
   ],
   "source": [
    "c.gret_user()"
   ]
  },
  {
   "cell_type": "code",
   "execution_count": 45,
   "metadata": {},
   "outputs": [
    {
     "data": {
      "text/plain": [
       "'Se ha creado el usuario daneli lailson con edad de 25 años y numero de cuenta 19850613'"
      ]
     },
     "execution_count": 45,
     "metadata": {},
     "output_type": "execute_result"
    }
   ],
   "source": [
    "d=User('daneli', 'lailson',25, 19850613)\n",
    "d.describe_user()"
   ]
  },
  {
   "cell_type": "code",
   "execution_count": 57,
   "metadata": {},
   "outputs": [
    {
     "name": "stdout",
     "output_type": "stream",
     "text": [
      "Daneli bienvenido a tu cuenta del Politécnico\n"
     ]
    }
   ],
   "source": [
    "d.gret_user()"
   ]
  },
  {
   "cell_type": "code",
   "execution_count": 46,
   "metadata": {},
   "outputs": [
    {
     "data": {
      "text/plain": [
       "'Se ha creado el usuario daniela diaz con edad de 23 años y numero de cuenta 20430586'"
      ]
     },
     "execution_count": 46,
     "metadata": {},
     "output_type": "execute_result"
    }
   ],
   "source": [
    "e=User('daniela', 'diaz', 23, 20430586)\n",
    "e.describe_user()"
   ]
  },
  {
   "cell_type": "code",
   "execution_count": 58,
   "metadata": {},
   "outputs": [
    {
     "name": "stdout",
     "output_type": "stream",
     "text": [
      "Daniela bienvenido a tu cuenta del Politécnico\n"
     ]
    }
   ],
   "source": [
    "e.gret_user()"
   ]
  },
  {
   "cell_type": "code",
   "execution_count": 47,
   "metadata": {},
   "outputs": [
    {
     "data": {
      "text/plain": [
       "'Se ha creado el usuario fedra lopez con edad de 22 años y numero de cuenta 19800527'"
      ]
     },
     "execution_count": 47,
     "metadata": {},
     "output_type": "execute_result"
    }
   ],
   "source": [
    "f=User('fedra','lopez',22, 19800527)\n",
    "f.describe_user()"
   ]
  },
  {
   "cell_type": "code",
   "execution_count": 59,
   "metadata": {},
   "outputs": [
    {
     "name": "stdout",
     "output_type": "stream",
     "text": [
      "Fedra bienvenido a tu cuenta del Politécnico\n"
     ]
    }
   ],
   "source": [
    "f.gret_user()"
   ]
  },
  {
   "cell_type": "code",
   "execution_count": 48,
   "metadata": {},
   "outputs": [
    {
     "data": {
      "text/plain": [
       "'Se ha creado el usuario Claudia Reyes con edad de 49 años y numero de cuenta 70889098'"
      ]
     },
     "execution_count": 48,
     "metadata": {},
     "output_type": "execute_result"
    }
   ],
   "source": [
    "g=User('Claudia','Reyes',49, 70889098)\n",
    "g.describe_user()"
   ]
  },
  {
   "cell_type": "code",
   "execution_count": 60,
   "metadata": {},
   "outputs": [
    {
     "name": "stdout",
     "output_type": "stream",
     "text": [
      "Fedra bienvenido a tu cuenta del Politécnico\n"
     ]
    }
   ],
   "source": [
    "f.gret_user()"
   ]
  },
  {
   "cell_type": "code",
   "execution_count": 49,
   "metadata": {},
   "outputs": [
    {
     "data": {
      "text/plain": [
       "'Se ha creado el usuario natalia gomez con edad de 20 años y numero de cuenta 2183053162'"
      ]
     },
     "execution_count": 49,
     "metadata": {},
     "output_type": "execute_result"
    }
   ],
   "source": [
    "h=User('natalia', 'gomez', 20, 2183053162)\n",
    "h.describe_user()"
   ]
  },
  {
   "cell_type": "code",
   "execution_count": 61,
   "metadata": {},
   "outputs": [
    {
     "name": "stdout",
     "output_type": "stream",
     "text": [
      "Natalia bienvenido a tu cuenta del Politécnico\n"
     ]
    }
   ],
   "source": [
    "h.gret_user()"
   ]
  },
  {
   "cell_type": "code",
   "execution_count": 50,
   "metadata": {},
   "outputs": [
    {
     "data": {
      "text/plain": [
       "'Se ha creado el usuario Christian orlando con edad de 24 años y numero de cuenta 96012309'"
      ]
     },
     "execution_count": 50,
     "metadata": {},
     "output_type": "execute_result"
    }
   ],
   "source": [
    "i=User('Christian', 'orlando', 24, 96012309)\n",
    "i.describe_user()"
   ]
  },
  {
   "cell_type": "code",
   "execution_count": 62,
   "metadata": {},
   "outputs": [
    {
     "name": "stdout",
     "output_type": "stream",
     "text": [
      "Christian bienvenido a tu cuenta del Politécnico\n"
     ]
    }
   ],
   "source": [
    "i.gret_user()"
   ]
  },
  {
   "cell_type": "code",
   "execution_count": 52,
   "metadata": {},
   "outputs": [
    {
     "data": {
      "text/plain": [
       "'Se ha creado el usuario fernando lopez con edad de 15 años y numero de cuenta 17711343'"
      ]
     },
     "execution_count": 52,
     "metadata": {},
     "output_type": "execute_result"
    }
   ],
   "source": [
    "j=User('fernando', 'lopez', 15, 17711343)\n",
    "j.describe_user()"
   ]
  },
  {
   "cell_type": "code",
   "execution_count": 63,
   "metadata": {},
   "outputs": [
    {
     "name": "stdout",
     "output_type": "stream",
     "text": [
      "Fernando bienvenido a tu cuenta del Politécnico\n"
     ]
    }
   ],
   "source": [
    "j.gret_user()"
   ]
  },
  {
   "cell_type": "code",
   "execution_count": null,
   "metadata": {},
   "outputs": [],
   "source": []
  }
 ],
 "metadata": {
  "kernelspec": {
   "display_name": "Python 3",
   "language": "python",
   "name": "python3"
  },
  "language_info": {
   "codemirror_mode": {
    "name": "ipython",
    "version": 3
   },
   "file_extension": ".py",
   "mimetype": "text/x-python",
   "name": "python",
   "nbconvert_exporter": "python",
   "pygments_lexer": "ipython3",
   "version": "3.7.4"
  }
 },
 "nbformat": 4,
 "nbformat_minor": 2
}
